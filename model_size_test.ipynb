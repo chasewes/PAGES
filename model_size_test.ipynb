{
 "cells": [
  {
   "cell_type": "markdown",
   "metadata": {},
   "source": [
    "# <center> Testing MusicGen Model Sizes"
   ]
  },
  {
   "cell_type": "code",
   "execution_count": 1,
   "metadata": {},
   "outputs": [
    {
     "name": "stdout",
     "output_type": "stream",
     "text": [
      "Device cuda\n"
     ]
    },
    {
     "name": "stderr",
     "output_type": "stream",
     "text": [
      "/home/cayjobla/PAGES/.venv/lib/python3.10/site-packages/torch/nn/utils/weight_norm.py:30: UserWarning: torch.nn.utils.weight_norm is deprecated in favor of torch.nn.utils.parametrizations.weight_norm.\n",
      "  warnings.warn(\"torch.nn.utils.weight_norm is deprecated in favor of torch.nn.utils.parametrizations.weight_norm.\")\n"
     ]
    },
    {
     "name": "stdout",
     "output_type": "stream",
     "text": [
      "Device cuda\n"
     ]
    },
    {
     "name": "stderr",
     "output_type": "stream",
     "text": [
      "/home/cayjobla/PAGES/.venv/lib/python3.10/site-packages/torch/nn/utils/weight_norm.py:30: UserWarning: torch.nn.utils.weight_norm is deprecated in favor of torch.nn.utils.parametrizations.weight_norm.\n",
      "  warnings.warn(\"torch.nn.utils.weight_norm is deprecated in favor of torch.nn.utils.parametrizations.weight_norm.\")\n"
     ]
    },
    {
     "name": "stdout",
     "output_type": "stream",
     "text": [
      "Device cuda\n"
     ]
    },
    {
     "name": "stderr",
     "output_type": "stream",
     "text": [
      "/home/cayjobla/PAGES/.venv/lib/python3.10/site-packages/torch/nn/utils/weight_norm.py:30: UserWarning: torch.nn.utils.weight_norm is deprecated in favor of torch.nn.utils.parametrizations.weight_norm.\n",
      "  warnings.warn(\"torch.nn.utils.weight_norm is deprecated in favor of torch.nn.utils.parametrizations.weight_norm.\")\n"
     ]
    },
    {
     "name": "stdout",
     "output_type": "stream",
     "text": [
      "Device cuda\n"
     ]
    },
    {
     "name": "stderr",
     "output_type": "stream",
     "text": [
      "/home/cayjobla/PAGES/.venv/lib/python3.10/site-packages/torch/nn/utils/weight_norm.py:30: UserWarning: torch.nn.utils.weight_norm is deprecated in favor of torch.nn.utils.parametrizations.weight_norm.\n",
      "  warnings.warn(\"torch.nn.utils.weight_norm is deprecated in favor of torch.nn.utils.parametrizations.weight_norm.\")\n"
     ]
    }
   ],
   "source": [
    "from GenMusicFromPrompt import GenMusicFromPrompt\n",
    "\n",
    "model_kwargs = {\"duration\":60, \"device\":\"cuda\", \"previous_song_duration\":2}\n",
    "small = GenMusicFromPrompt(model_name=\"facebook/musicgen-small\", **model_kwargs)\n",
    "medium = GenMusicFromPrompt(model_name=\"facebook/musicgen-medium\", **model_kwargs)\n",
    "large = GenMusicFromPrompt(model_name=\"facebook/musicgen-large\", **model_kwargs)\n",
    "melody = GenMusicFromPrompt(model_name=\"facebook/musicgen-melody\", **model_kwargs)"
   ]
  },
  {
   "cell_type": "code",
   "execution_count": 2,
   "metadata": {},
   "outputs": [],
   "source": [
    "example_json = \"\\n\\n\\n\\n\\n\\n\\n\\n\\n\\n\\n\\n{\\n\\\"tone\\\": \\\"ominous\\\",\\n\\\"intensity\\\": \\\"moderate\\\",\\n\\\"instrumentation\\\": \\\"orchestral\\\",\\n\\\"setting\\\": \\\"cave\\\",\\n\\\"scene_description\\\": \\\"Dark figure streaming with fire races towards them. The orcs yell and pour over the stone gangways. Then Boromir raises his horn and blows. Loud the challenge rings and bellow, like the shout of many throats under the cavernous roof. For a moment the orcs quail and the fiery shadow halts. Then the echoes die as suddenly as a flame blown out by a dark wind, and the enemy advances again\\\",\\n\\\"pitch\\\": \\\"D\\\",\\n\\\"crescendo\\\": false\\n}\\n\\n\\n\\n\\n\\n\\n\\n\\n\\n\\n\\n\""
   ]
  },
  {
   "cell_type": "code",
   "execution_count": 7,
   "metadata": {},
   "outputs": [
    {
     "name": "stdout",
     "output_type": "stream",
     "text": [
      "Small model initial generation time: 97.6720643043518\n",
      "Small model subsequent generation time: 93.50993514060974\n"
     ]
    }
   ],
   "source": [
    "import time\n",
    "\n",
    "start = time.time()\n",
    "small.generate(example_json, song=None)\n",
    "print(\"Small model initial generation time:\", time.time()-start)\n",
    "\n",
    "start = time.time()\n",
    "small.generate(example_json)\n",
    "print(\"Small model subsequent generation time:\", time.time()-start)"
   ]
  },
  {
   "cell_type": "code",
   "execution_count": 8,
   "metadata": {},
   "outputs": [
    {
     "name": "stdout",
     "output_type": "stream",
     "text": [
      "Medium model initial generation time: 184.32065773010254\n",
      "Medium model subsequent generation time: 184.0410394668579\n"
     ]
    }
   ],
   "source": [
    "start = time.time()\n",
    "medium.generate(example_json, song=None)\n",
    "print(\"Medium model initial generation time:\", time.time()-start)\n",
    "\n",
    "start = time.time()\n",
    "medium.generate(example_json)\n",
    "print(\"Medium model subsequent generation time:\", time.time()-start)"
   ]
  },
  {
   "cell_type": "code",
   "execution_count": 9,
   "metadata": {},
   "outputs": [
    {
     "name": "stdout",
     "output_type": "stream",
     "text": [
      "Large model initial generation time: 182.41054821014404\n",
      "Large model subsequent generation time: 182.12679481506348\n"
     ]
    }
   ],
   "source": [
    "start = time.time()\n",
    "large.generate(example_json, song=None)\n",
    "print(\"Large model initial generation time:\", time.time()-start)\n",
    "\n",
    "start = time.time()\n",
    "large.generate(example_json)\n",
    "print(\"Large model subsequent generation time:\", time.time()-start)"
   ]
  },
  {
   "cell_type": "code",
   "execution_count": 10,
   "metadata": {},
   "outputs": [
    {
     "name": "stdout",
     "output_type": "stream",
     "text": [
      "Melody model initial generation time: 114.53209376335144\n",
      "Melody model subsequent generation time: 113.72494077682495\n"
     ]
    }
   ],
   "source": [
    "start = time.time()\n",
    "melody.generate(example_json, song=None)\n",
    "print(\"Melody model initial generation time:\", time.time()-start)\n",
    "\n",
    "start = time.time()\n",
    "melody.generate(example_json)\n",
    "print(\"Melody model subsequent generation time:\", time.time()-start)"
   ]
  },
  {
   "cell_type": "code",
   "execution_count": null,
   "metadata": {},
   "outputs": [],
   "source": []
  }
 ],
 "metadata": {
  "kernelspec": {
   "display_name": ".venv",
   "language": "python",
   "name": "python3"
  },
  "language_info": {
   "codemirror_mode": {
    "name": "ipython",
    "version": 3
   },
   "file_extension": ".py",
   "mimetype": "text/x-python",
   "name": "python",
   "nbconvert_exporter": "python",
   "pygments_lexer": "ipython3",
   "version": "3.10.12"
  }
 },
 "nbformat": 4,
 "nbformat_minor": 2
}
