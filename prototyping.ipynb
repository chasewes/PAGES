{
 "cells": [
  {
   "cell_type": "markdown",
   "id": "6cd8ffe0-8858-448c-a023-b0e126088cba",
   "metadata": {},
   "source": [
    "# Step 1: Get the text from the book"
   ]
  },
  {
   "cell_type": "code",
   "execution_count": 2,
   "id": "126a11f1-563f-4658-9b1d-640f02357efc",
   "metadata": {
    "tags": []
   },
   "outputs": [],
   "source": [
    "book_text_loc = 'prompt_examples/fotr_gandalf_balrog.txt'\n",
    "\n",
    "with open(book_text_loc) as f: \n",
    "    book_text = f.read()"
   ]
  },
  {
   "cell_type": "markdown",
   "id": "a3765f3a-2740-4ee3-985b-441628f92773",
   "metadata": {},
   "source": [
    "# Step 2: Split the section into 60 word sections"
   ]
  },
  {
   "cell_type": "code",
   "execution_count": 5,
   "id": "da8bb27e-d443-47bd-981d-ceea78e735e3",
   "metadata": {
    "tags": []
   },
   "outputs": [],
   "source": [
    "words = book_text.split()\n",
    "\n",
    "word_sections = [' '.join(words[i:i+60]) for i in range(0, len(words), 60)]"
   ]
  },
  {
   "cell_type": "markdown",
   "id": "b17d359c-55d2-4342-a06e-4dd64a5f0950",
   "metadata": {},
   "source": [
    "# Step 3: "
   ]
  },
  {
   "cell_type": "code",
   "execution_count": null,
   "id": "bdb46c67-c03a-4242-879c-edd5fbec8691",
   "metadata": {},
   "outputs": [],
   "source": []
  }
 ],
 "metadata": {
  "kernelspec": {
   "display_name": "PAGES",
   "language": "python",
   "name": "pages"
  },
  "language_info": {
   "codemirror_mode": {
    "name": "ipython",
    "version": 3
   },
   "file_extension": ".py",
   "mimetype": "text/x-python",
   "name": "python",
   "nbconvert_exporter": "python",
   "pygments_lexer": "ipython3",
   "version": "3.9.7"
  }
 },
 "nbformat": 4,
 "nbformat_minor": 5
}
