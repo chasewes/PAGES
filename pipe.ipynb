{
 "cells": [
  {
   "cell_type": "code",
   "execution_count": 1,
   "metadata": {},
   "outputs": [],
   "source": [
    "from Ambient_Pipeline import Music_Gen_Pipeline\n",
    "from LLMPromptGenerator import LLMPromptGenerator\n",
    "from GenMusicFromPrompt import GenMusicFromPrompt\n",
    "import torch\n",
    "import os"
   ]
  },
  {
   "cell_type": "code",
   "execution_count": 2,
   "metadata": {},
   "outputs": [],
   "source": [
    "os.environ[\"CUDA_VISIBLE_DEVICES\"] = \"0\""
   ]
  },
  {
   "cell_type": "code",
   "execution_count": 4,
   "metadata": {},
   "outputs": [
    {
     "data": {
      "text/plain": [
       "device(type='cuda')"
      ]
     },
     "execution_count": 4,
     "metadata": {},
     "output_type": "execute_result"
    }
   ],
   "source": [
    "device = torch.device(\"cuda\" if torch.cuda.is_available() else \"cpu\")\n",
    "device"
   ]
  },
  {
   "cell_type": "code",
   "execution_count": 5,
   "metadata": {},
   "outputs": [
    {
     "name": "stdout",
     "output_type": "stream",
     "text": [
      "Device cuda\n"
     ]
    },
    {
     "name": "stderr",
     "output_type": "stream",
     "text": [
      "/home/cayjobla/PAGES/.venv/lib/python3.10/site-packages/torch/nn/utils/weight_norm.py:30: UserWarning: torch.nn.utils.weight_norm is deprecated in favor of torch.nn.utils.parametrizations.weight_norm.\n",
      "  warnings.warn(\"torch.nn.utils.weight_norm is deprecated in favor of torch.nn.utils.parametrizations.weight_norm.\")\n"
     ]
    }
   ],
   "source": [
    "extractor = LLMPromptGenerator()\n",
    "generator = GenMusicFromPrompt(device=device)\n",
    "pipe = Music_Gen_Pipeline(extractor=extractor, generator=generator, device=device, verbose=True)"
   ]
  },
  {
   "cell_type": "markdown",
   "metadata": {},
   "source": [
    "## Text to Music"
   ]
  },
  {
   "cell_type": "code",
   "execution_count": 6,
   "metadata": {},
   "outputs": [],
   "source": [
    "text_dir = \"evaluation/excerpts/\"\n",
    "out_dir = \"evaluation/generated_songs/\""
   ]
  },
  {
   "cell_type": "code",
   "execution_count": 8,
   "metadata": {},
   "outputs": [
    {
     "name": "stdout",
     "output_type": "stream",
     "text": [
      "{'musical_instrument': 'piano', 'tempo': 'moderate', 'intensity': 'medium', 'tone': 'serious', 'setting': 'cave', 'is_major_key': True}\n",
      "Saved song to evaluation/generated_songs/rots.wav\n",
      "{'musical_instrument': 'The_Dark_Figure_Streaming_with_Fire', 'tempo': 'Moderate', 'tone': 'Dark', 'intensity': 'Loud', 'setting': 'The_Orcs_yelled_and_poured_over_the_stone_gangways', 'is_major_key': True}\n",
      "Saved song to evaluation/generated_songs/fotr_balrog.wav\n",
      "{'musical_instrument': 'piano', 'tempo': 'moderato', 'tone': 'legato', 'intensity': 'soft', 'setting': 'romantic', 'is_major_key': True}\n",
      "Saved song to evaluation/generated_songs/raj.wav\n",
      "{'setting': \"The sun did not shine. It was too wet to play. So we sat in the house All that cold, cold, wet day. I sat there with Sally. We sat there, we two. And I said, 'How I wish We had something to do!'\", 'musical_instrument': 'piano', 'tempo': 'moderato', 'tone': 'sad', 'intensity': 'soft', 'is_major_key': False}\n",
      "Saved song to evaluation/generated_songs/cith.wav\n",
      "{'musical_instrument': 'piano', 'tempo': 'moderato', 'tone': 'serious', 'intensity': 'medium', 'setting': 'battlefield', 'is_major_key': True}\n",
      "Saved song to evaluation/generated_songs/wok_war.wav\n"
     ]
    }
   ],
   "source": [
    "for i, filepath in enumerate(os.listdir(text_dir)):\n",
    "    if not filepath.endswith(\".txt\"):   # Only grab text files\n",
    "        continue\n",
    "\n",
    "    # Load the text section and generate the MusicGen prompt\n",
    "    # text = pipe.text_to_sections(f\"{text_dir}{filepath}\")[0]        # Use to only take first section\n",
    "    text = pipe.load_txt(f\"{text_dir}{filepath}\")                   # Use to input entire excerpt\n",
    "    text = ' '.join(text.split()[:300])                              # Only take first 300 words\n",
    "    musicgen_prompt = pipe.extractor.generate_musicgen_prompt(text, flush=False)    # Generate MusicGen prompt\n",
    "\n",
    "    # Generate song\n",
    "    pipe.generator.generate(musicgen_prompt, duration=30, prev_song_duration=0, song=None)\n",
    "    pipe.generator.save_audio(f\"{out_dir}{filepath.split('.')[0]}.wav\")"
   ]
  },
  {
   "cell_type": "code",
   "execution_count": null,
   "metadata": {},
   "outputs": [],
   "source": []
  }
 ],
 "metadata": {
  "kernelspec": {
   "display_name": ".venv",
   "language": "python",
   "name": "python3"
  },
  "language_info": {
   "codemirror_mode": {
    "name": "ipython",
    "version": 3
   },
   "file_extension": ".py",
   "mimetype": "text/x-python",
   "name": "python",
   "nbconvert_exporter": "python",
   "pygments_lexer": "ipython3",
   "version": "3.10.12"
  }
 },
 "nbformat": 4,
 "nbformat_minor": 2
}
