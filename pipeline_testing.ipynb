{
 "cells": [
  {
   "cell_type": "code",
   "execution_count": 1,
   "metadata": {},
   "outputs": [
    {
     "name": "stderr",
     "output_type": "stream",
     "text": [
      "/home/grantsl/anaconda3/envs/pages/lib/python3.10/site-packages/tqdm/auto.py:21: TqdmWarning: IProgress not found. Please update jupyter and ipywidgets. See https://ipywidgets.readthedocs.io/en/stable/user_install.html\n",
      "  from .autonotebook import tqdm as notebook_tqdm\n",
      "WARNING[XFORMERS]: xFormers can't load C++/CUDA extensions. xFormers was built for:\n",
      "    PyTorch 2.1.0+cu121 with CUDA 1201 (you have 2.1.0+cu118)\n",
      "    Python  3.10.13 (you have 3.10.12)\n",
      "  Please reinstall xformers (see https://github.com/facebookresearch/xformers#installing-xformers)\n",
      "  Memory-efficient attention, SwiGLU, sparse and more won't be available.\n",
      "  Set XFORMERS_MORE_DETAILS=1 for more details\n"
     ]
    },
    {
     "name": "stdout",
     "output_type": "stream",
     "text": [
      "cuda\n",
      "Device cuda\n"
     ]
    },
    {
     "name": "stderr",
     "output_type": "stream",
     "text": [
      "/home/grantsl/anaconda3/envs/pages/lib/python3.10/site-packages/torch/nn/utils/weight_norm.py:30: UserWarning: torch.nn.utils.weight_norm is deprecated in favor of torch.nn.utils.parametrizations.weight_norm.\n",
      "  warnings.warn(\"torch.nn.utils.weight_norm is deprecated in favor of torch.nn.utils.parametrizations.weight_norm.\")\n"
     ]
    }
   ],
   "source": [
    "from werkzeug.utils import secure_filename\n",
    "import io\n",
    "import os\n",
    "from pydub import AudioSegment\n",
    "import Ambient_Pipeline as ap\n",
    "import numpy as np\n",
    "import tempfile\n",
    "import torch\n",
    "import torchaudio\n",
    "import subprocess"
   ]
  },
  {
   "cell_type": "code",
   "execution_count": 2,
   "metadata": {},
   "outputs": [],
   "source": [
    "def load_wav_as_np_array(filepath_wav):\n",
    "    waveform, sample_rate = torchaudio.load(filepath_wav)\n",
    "    # Convert the tensor to a numpy array\n",
    "    np_waveform = waveform.numpy()\n",
    "    return np_waveform, sample_rate"
   ]
  },
  {
   "cell_type": "code",
   "execution_count": 3,
   "metadata": {},
   "outputs": [],
   "source": [
    "UPLOAD_FOLDER = 'uploads'\n",
    "\n",
    "filename_wav = \"user_recording_harry_potter.wav\"\n",
    "filepath_wav = os.path.join(UPLOAD_FOLDER, filename_wav)\n",
    "\n",
    "sound, sr = load_wav_as_np_array(filepath_wav)\n",
    "\n",
    "sound = sound.squeeze()\n",
    "\n",
    "\n"
   ]
  },
  {
   "cell_type": "code",
   "execution_count": 4,
   "metadata": {},
   "outputs": [
    {
     "name": "stdout",
     "output_type": "stream",
     "text": [
      "Sound shape:  (259308,)\n"
     ]
    }
   ],
   "source": [
    "print(\"Sound shape: \", sound.shape)"
   ]
  },
  {
   "cell_type": "code",
   "execution_count": 5,
   "metadata": {},
   "outputs": [
    {
     "name": "stdout",
     "output_type": "stream",
     "text": [
      "Splitting Audio to chunks\n",
      "dict_keys(['path', 'array', 'sampling_rate'])\n",
      "duration calculated from array 5.88\n"
     ]
    },
    {
     "name": "stderr",
     "output_type": "stream",
     "text": [
      "Special tokens have been added in the vocabulary, make sure the associated word embeddings are fine-tuned or trained.\n"
     ]
    },
    {
     "name": "stdout",
     "output_type": "stream",
     "text": [
      "in chunking {'path': None, 'array': array([ 0.        ,  0.        ,  0.        , ..., -0.00109863,\n",
      "       -0.00076294, -0.00097656], dtype=float32), 'sampling_rate': 44100, 'duration': 5.88}\n"
     ]
    },
    {
     "name": "stderr",
     "output_type": "stream",
     "text": [
      "/home/grantsl/anaconda3/envs/pages/lib/python3.10/site-packages/torch/nn/modules/conv.py:306: UserWarning: Applied workaround for CuDNN issue, install nvrtc.so (Triggered internally at ../aten/src/ATen/native/cudnn/Conv_v8.cpp:80.)\n",
      "  return F.conv1d(input, weight, bias, self.stride,\n"
     ]
    },
    {
     "name": "stdout",
     "output_type": "stream",
     "text": [
      "{'text': \" This is test number two. It's going to work and it's going to be awesome.\", 'chunks': [{'timestamp': (0.0, 7.2), 'text': \" This is test number two. It's going to work and it's going to be awesome.\"}]}\n",
      "[{'timestamp': (0.0, 7.2), 'text': \" This is test number two. It's going to work and it's going to be awesome.\"}]\n",
      "new chunks [{'timestamp': [0.0, 7.2], 'text': \" This is test number two. It's going to work and it's going to be awesome.\", 'duration': 7.2}]\n",
      "Extracting Info from chunks\n"
     ]
    },
    {
     "name": "stderr",
     "output_type": "stream",
     "text": [
      "/home/grantsl/anaconda3/envs/pages/lib/python3.10/site-packages/transformers/generation/utils.py:1295: UserWarning: You have modified the pretrained model configuration to control generation. This is a deprecated strategy to control generation and will be removed soon, in a future version. Please use and modify the model generation configuration (see https://huggingface.co/docs/transformers/generation_strategies#default-text-generation-configuration )\n",
      "  warnings.warn(\n"
     ]
    },
    {
     "name": "stdout",
     "output_type": "stream",
     "text": [
      "[<LLMPromptGenerator.DetailedInfo object at 0x7fbb3c6f1780>]\n",
      "Prompts:\n",
      "mellow ambient music setting piano instrumentals in a major key. serene tone soft intensity and low volume\n",
      "Generating Music from prompts\n",
      "Saved song to uploads/user_recording_backing.mp3\n"
     ]
    }
   ],
   "source": [
    "processed_file_name = 'user_recording_backing.mp3'\n",
    "processed_filepath = os.path.join(UPLOAD_FOLDER, processed_file_name)  # Build the full path for the processed file\n",
    "# processed_audio_file.save(processed_filepath)\n",
    "\n",
    "music, music_sr = ap.audio_to_music(sound, sampling_rate=sr, save_file_loc=processed_filepath)"
   ]
  },
  {
   "cell_type": "code",
   "execution_count": null,
   "metadata": {},
   "outputs": [],
   "source": [
    "from audiocraft.utils.notebook import display_audio\n",
    "\n",
    "display_audio(music, music_sr)"
   ]
  }
 ],
 "metadata": {
  "kernelspec": {
   "display_name": "pages",
   "language": "python",
   "name": "python3"
  },
  "language_info": {
   "codemirror_mode": {
    "name": "ipython",
    "version": 3
   },
   "file_extension": ".py",
   "mimetype": "text/x-python",
   "name": "python",
   "nbconvert_exporter": "python",
   "pygments_lexer": "ipython3",
   "version": "3.10.12"
  }
 },
 "nbformat": 4,
 "nbformat_minor": 2
}
