{
 "cells": [
  {
   "cell_type": "code",
   "execution_count": 1,
   "metadata": {
    "tags": []
   },
   "outputs": [
    {
     "ename": "TypeError",
     "evalue": "StringConstraints() takes no arguments",
     "output_type": "error",
     "traceback": [
      "\u001b[0;31m---------------------------------------------------------------------------\u001b[0m",
      "\u001b[0;31mTypeError\u001b[0m                                 Traceback (most recent call last)",
      "Cell \u001b[0;32mIn[1], line 5\u001b[0m\n\u001b[1;32m      3\u001b[0m \u001b[38;5;28;01mimport\u001b[39;00m \u001b[38;5;21;01mos\u001b[39;00m\n\u001b[1;32m      4\u001b[0m \u001b[38;5;28;01mfrom\u001b[39;00m \u001b[38;5;21;01mpydub\u001b[39;00m \u001b[38;5;28;01mimport\u001b[39;00m AudioSegment\n\u001b[0;32m----> 5\u001b[0m \u001b[38;5;28;01mimport\u001b[39;00m \u001b[38;5;21;01mAmbient_Pipeline\u001b[39;00m \u001b[38;5;28;01mas\u001b[39;00m \u001b[38;5;21;01map\u001b[39;00m\n\u001b[1;32m      6\u001b[0m \u001b[38;5;28;01mimport\u001b[39;00m \u001b[38;5;21;01mnumpy\u001b[39;00m \u001b[38;5;28;01mas\u001b[39;00m \u001b[38;5;21;01mnp\u001b[39;00m\n\u001b[1;32m      7\u001b[0m \u001b[38;5;28;01mimport\u001b[39;00m \u001b[38;5;21;01mtempfile\u001b[39;00m\n",
      "File \u001b[0;32m~/PAGES/Ambient_Pipeline.py:3\u001b[0m\n\u001b[1;32m      1\u001b[0m \u001b[38;5;28;01mfrom\u001b[39;00m \u001b[38;5;21;01mLLMPromptGenerator\u001b[39;00m \u001b[38;5;28;01mimport\u001b[39;00m LLMPromptGenerator, DetailedInfo\n\u001b[1;32m      2\u001b[0m \u001b[38;5;28;01mfrom\u001b[39;00m \u001b[38;5;21;01mGenMusicFromPrompt\u001b[39;00m \u001b[38;5;28;01mimport\u001b[39;00m GenMusicFromPrompt\n\u001b[0;32m----> 3\u001b[0m \u001b[38;5;28;01mfrom\u001b[39;00m \u001b[38;5;21;01mLLMPromptConstraints\u001b[39;00m \u001b[38;5;28;01mimport\u001b[39;00m music_gen_info, prompt\n\u001b[1;32m      5\u001b[0m constrained_prompt \u001b[38;5;241m=\u001b[39m prompt\n\u001b[1;32m      7\u001b[0m \u001b[38;5;28;01mfrom\u001b[39;00m \u001b[38;5;21;01maudiocraft\u001b[39;00m\u001b[38;5;21;01m.\u001b[39;00m\u001b[38;5;21;01mmodels\u001b[39;00m \u001b[38;5;28;01mimport\u001b[39;00m MusicGen\n",
      "File \u001b[0;32m~/PAGES/LLMPromptConstraints.py:37\u001b[0m\n\u001b[1;32m     33\u001b[0m feelings \u001b[38;5;241m=\u001b[39m [\u001b[38;5;124m\"\u001b[39m\u001b[38;5;124mlove\u001b[39m\u001b[38;5;124m\"\u001b[39m, \u001b[38;5;124m\"\u001b[39m\u001b[38;5;124mjoy\u001b[39m\u001b[38;5;124m\"\u001b[39m, \u001b[38;5;124m\"\u001b[39m\u001b[38;5;124msurprise\u001b[39m\u001b[38;5;124m\"\u001b[39m, \u001b[38;5;124m\"\u001b[39m\u001b[38;5;124manger\u001b[39m\u001b[38;5;124m\"\u001b[39m, \u001b[38;5;124m\"\u001b[39m\u001b[38;5;124msadness\u001b[39m\u001b[38;5;124m\"\u001b[39m, \u001b[38;5;124m\"\u001b[39m\u001b[38;5;124mfear\u001b[39m\u001b[38;5;124m\"\u001b[39m]\n\u001b[1;32m     34\u001b[0m feelings \u001b[38;5;241m=\u001b[39m \u001b[38;5;124m'\u001b[39m\u001b[38;5;124m|\u001b[39m\u001b[38;5;124m'\u001b[39m\u001b[38;5;241m.\u001b[39mjoin(feelings)\n\u001b[0;32m---> 37\u001b[0m \u001b[38;5;28;01mclass\u001b[39;00m \u001b[38;5;21;01mMusicGenInfoModded\u001b[39;00m(BaseModel):\n\u001b[1;32m     38\u001b[0m     \u001b[38;5;28;01mclass\u001b[39;00m \u001b[38;5;21;01mShortTermAttributes\u001b[39;00m(BaseModel):\n\u001b[1;32m     39\u001b[0m \u001b[38;5;250m        \u001b[39m\u001b[38;5;124;03m\"\"\"\u001b[39;00m\n\u001b[1;32m     40\u001b[0m \u001b[38;5;124;03m        Attributes that are collected for every text chunk passed in\u001b[39;00m\n\u001b[1;32m     41\u001b[0m \u001b[38;5;124;03m        Note: the variable name influences what the LLM attempts to extract\u001b[39;00m\n\u001b[1;32m     42\u001b[0m \u001b[38;5;124;03m        \"\"\"\u001b[39;00m\n",
      "File \u001b[0;32m~/PAGES/LLMPromptConstraints.py:38\u001b[0m, in \u001b[0;36mMusicGenInfoModded\u001b[0;34m()\u001b[0m\n\u001b[1;32m     37\u001b[0m \u001b[38;5;28;01mclass\u001b[39;00m \u001b[38;5;21;01mMusicGenInfoModded\u001b[39;00m(BaseModel):\n\u001b[0;32m---> 38\u001b[0m     \u001b[38;5;28;01mclass\u001b[39;00m \u001b[38;5;21;01mShortTermAttributes\u001b[39;00m(BaseModel):\n\u001b[1;32m     39\u001b[0m \u001b[38;5;250m        \u001b[39m\u001b[38;5;124;03m\"\"\"\u001b[39;00m\n\u001b[1;32m     40\u001b[0m \u001b[38;5;124;03m        Attributes that are collected for every text chunk passed in\u001b[39;00m\n\u001b[1;32m     41\u001b[0m \u001b[38;5;124;03m        Note: the variable name influences what the LLM attempts to extract\u001b[39;00m\n\u001b[1;32m     42\u001b[0m \u001b[38;5;124;03m        \"\"\"\u001b[39;00m\n\u001b[1;32m     43\u001b[0m         \u001b[38;5;66;03m# tone: str\u001b[39;00m\n\u001b[1;32m     44\u001b[0m         \u001b[38;5;66;03m# intensity: str\u001b[39;00m\n\u001b[1;32m     45\u001b[0m         \u001b[38;5;66;03m# is_crescendo: bool\u001b[39;00m\n\u001b[1;32m     46\u001b[0m         \u001b[38;5;66;03m# volume: str\u001b[39;00m\n\u001b[1;32m     47\u001b[0m         \n\u001b[1;32m     48\u001b[0m         \u001b[38;5;66;03m# genre: str\u001b[39;00m\n",
      "File \u001b[0;32m~/PAGES/LLMPromptConstraints.py:51\u001b[0m, in \u001b[0;36mMusicGenInfoModded.ShortTermAttributes\u001b[0;34m()\u001b[0m\n\u001b[1;32m     49\u001b[0m one_sentence_description: \u001b[38;5;28mstr\u001b[39m\n\u001b[1;32m     50\u001b[0m music_setting: \u001b[38;5;28mstr\u001b[39m\n\u001b[0;32m---> 51\u001b[0m feeling: \u001b[43mconstr\u001b[49m\u001b[43m(\u001b[49m\u001b[43mpattern\u001b[49m\u001b[38;5;241;43m=\u001b[39;49m\u001b[43mfeelings\u001b[49m\u001b[43m)\u001b[49m\n\u001b[1;32m     52\u001b[0m is_setting_described: \u001b[38;5;28mbool\u001b[39m\n\u001b[1;32m     53\u001b[0m setting_description: \u001b[38;5;28mstr\u001b[39m\n",
      "File \u001b[0;32m~/.local/lib/python3.9/site-packages/pydantic/types.py:785\u001b[0m, in \u001b[0;36mconstr\u001b[0;34m(strip_whitespace, to_upper, to_lower, strict, min_length, max_length, pattern)\u001b[0m\n\u001b[1;32m    719\u001b[0m \u001b[38;5;28;01mdef\u001b[39;00m \u001b[38;5;21mconstr\u001b[39m(\n\u001b[1;32m    720\u001b[0m     \u001b[38;5;241m*\u001b[39m,\n\u001b[1;32m    721\u001b[0m     strip_whitespace: \u001b[38;5;28mbool\u001b[39m \u001b[38;5;241m|\u001b[39m \u001b[38;5;28;01mNone\u001b[39;00m \u001b[38;5;241m=\u001b[39m \u001b[38;5;28;01mNone\u001b[39;00m,\n\u001b[0;32m   (...)\u001b[0m\n\u001b[1;32m    727\u001b[0m     pattern: \u001b[38;5;28mstr\u001b[39m \u001b[38;5;241m|\u001b[39m \u001b[38;5;28;01mNone\u001b[39;00m \u001b[38;5;241m=\u001b[39m \u001b[38;5;28;01mNone\u001b[39;00m,\n\u001b[1;32m    728\u001b[0m ) \u001b[38;5;241m-\u001b[39m\u001b[38;5;241m>\u001b[39m \u001b[38;5;28mtype\u001b[39m[\u001b[38;5;28mstr\u001b[39m]:\n\u001b[1;32m    729\u001b[0m \u001b[38;5;250m    \u001b[39m\u001b[38;5;124;03m\"\"\"\u001b[39;00m\n\u001b[1;32m    730\u001b[0m \u001b[38;5;124;03m    !!! warning \"Discouraged\"\u001b[39;00m\n\u001b[1;32m    731\u001b[0m \u001b[38;5;124;03m        This function is **discouraged** in favor of using\u001b[39;00m\n\u001b[0;32m   (...)\u001b[0m\n\u001b[1;32m    781\u001b[0m \u001b[38;5;124;03m        The wrapped string type.\u001b[39;00m\n\u001b[1;32m    782\u001b[0m \u001b[38;5;124;03m    \"\"\"\u001b[39;00m  \u001b[38;5;66;03m# noqa: D212\u001b[39;00m\n\u001b[1;32m    783\u001b[0m     \u001b[38;5;28;01mreturn\u001b[39;00m Annotated[\n\u001b[1;32m    784\u001b[0m         \u001b[38;5;28mstr\u001b[39m,\n\u001b[0;32m--> 785\u001b[0m         \u001b[43mStringConstraints\u001b[49m\u001b[43m(\u001b[49m\n\u001b[1;32m    786\u001b[0m \u001b[43m            \u001b[49m\u001b[43mstrip_whitespace\u001b[49m\u001b[38;5;241;43m=\u001b[39;49m\u001b[43mstrip_whitespace\u001b[49m\u001b[43m,\u001b[49m\n\u001b[1;32m    787\u001b[0m \u001b[43m            \u001b[49m\u001b[43mto_upper\u001b[49m\u001b[38;5;241;43m=\u001b[39;49m\u001b[43mto_upper\u001b[49m\u001b[43m,\u001b[49m\n\u001b[1;32m    788\u001b[0m \u001b[43m            \u001b[49m\u001b[43mto_lower\u001b[49m\u001b[38;5;241;43m=\u001b[39;49m\u001b[43mto_lower\u001b[49m\u001b[43m,\u001b[49m\n\u001b[1;32m    789\u001b[0m \u001b[43m            \u001b[49m\u001b[43mstrict\u001b[49m\u001b[38;5;241;43m=\u001b[39;49m\u001b[43mstrict\u001b[49m\u001b[43m,\u001b[49m\n\u001b[1;32m    790\u001b[0m \u001b[43m            \u001b[49m\u001b[43mmin_length\u001b[49m\u001b[38;5;241;43m=\u001b[39;49m\u001b[43mmin_length\u001b[49m\u001b[43m,\u001b[49m\n\u001b[1;32m    791\u001b[0m \u001b[43m            \u001b[49m\u001b[43mmax_length\u001b[49m\u001b[38;5;241;43m=\u001b[39;49m\u001b[43mmax_length\u001b[49m\u001b[43m,\u001b[49m\n\u001b[1;32m    792\u001b[0m \u001b[43m            \u001b[49m\u001b[43mpattern\u001b[49m\u001b[38;5;241;43m=\u001b[39;49m\u001b[43mpattern\u001b[49m\u001b[43m,\u001b[49m\n\u001b[1;32m    793\u001b[0m \u001b[43m        \u001b[49m\u001b[43m)\u001b[49m,\n\u001b[1;32m    794\u001b[0m     ]\n",
      "\u001b[0;31mTypeError\u001b[0m: StringConstraints() takes no arguments"
     ]
    }
   ],
   "source": [
    "from werkzeug.utils import secure_filename\n",
    "import io\n",
    "import os\n",
    "from pydub import AudioSegment\n",
    "import Ambient_Pipeline as ap\n",
    "import numpy as np\n",
    "import tempfile\n",
    "import torch\n",
    "import torchaudio\n",
    "import subprocess"
   ]
  },
  {
   "cell_type": "code",
   "execution_count": 2,
   "metadata": {},
   "outputs": [],
   "source": [
    "def load_wav_as_np_array(filepath_wav):\n",
    "    waveform, sample_rate = torchaudio.load(filepath_wav)\n",
    "    # Convert the tensor to a numpy array\n",
    "    np_waveform = waveform.numpy()\n",
    "    return np_waveform, sample_rate"
   ]
  },
  {
   "cell_type": "code",
   "execution_count": 3,
   "metadata": {},
   "outputs": [],
   "source": [
    "UPLOAD_FOLDER = 'uploads'\n",
    "\n",
    "filename_wav = \"user_recording_harry_potter.wav\"\n",
    "filepath_wav = os.path.join(UPLOAD_FOLDER, filename_wav)\n",
    "\n",
    "sound, sr = load_wav_as_np_array(filepath_wav)\n",
    "\n",
    "sound = sound.squeeze()\n",
    "\n",
    "\n"
   ]
  },
  {
   "cell_type": "code",
   "execution_count": 4,
   "metadata": {},
   "outputs": [
    {
     "name": "stdout",
     "output_type": "stream",
     "text": [
      "Sound shape:  (259308,)\n"
     ]
    }
   ],
   "source": [
    "print(\"Sound shape: \", sound.shape)"
   ]
  },
  {
   "cell_type": "code",
   "execution_count": 5,
   "metadata": {},
   "outputs": [
    {
     "name": "stdout",
     "output_type": "stream",
     "text": [
      "Splitting Audio to chunks\n",
      "dict_keys(['path', 'array', 'sampling_rate'])\n",
      "duration calculated from array 5.88\n"
     ]
    },
    {
     "name": "stderr",
     "output_type": "stream",
     "text": [
      "Special tokens have been added in the vocabulary, make sure the associated word embeddings are fine-tuned or trained.\n"
     ]
    },
    {
     "name": "stdout",
     "output_type": "stream",
     "text": [
      "in chunking {'path': None, 'array': array([ 0.        ,  0.        ,  0.        , ..., -0.00109863,\n",
      "       -0.00076294, -0.00097656], dtype=float32), 'sampling_rate': 44100, 'duration': 5.88}\n"
     ]
    },
    {
     "name": "stderr",
     "output_type": "stream",
     "text": [
      "/home/grantsl/anaconda3/envs/pages/lib/python3.10/site-packages/torch/nn/modules/conv.py:306: UserWarning: Applied workaround for CuDNN issue, install nvrtc.so (Triggered internally at ../aten/src/ATen/native/cudnn/Conv_v8.cpp:80.)\n",
      "  return F.conv1d(input, weight, bias, self.stride,\n"
     ]
    },
    {
     "name": "stdout",
     "output_type": "stream",
     "text": [
      "{'text': \" This is test number two. It's going to work and it's going to be awesome.\", 'chunks': [{'timestamp': (0.0, 7.2), 'text': \" This is test number two. It's going to work and it's going to be awesome.\"}]}\n",
      "[{'timestamp': (0.0, 7.2), 'text': \" This is test number two. It's going to work and it's going to be awesome.\"}]\n",
      "new chunks [{'timestamp': [0.0, 7.2], 'text': \" This is test number two. It's going to work and it's going to be awesome.\", 'duration': 7.2}]\n",
      "Extracting Info from chunks\n"
     ]
    },
    {
     "name": "stderr",
     "output_type": "stream",
     "text": [
      "/home/grantsl/anaconda3/envs/pages/lib/python3.10/site-packages/transformers/generation/utils.py:1295: UserWarning: You have modified the pretrained model configuration to control generation. This is a deprecated strategy to control generation and will be removed soon, in a future version. Please use and modify the model generation configuration (see https://huggingface.co/docs/transformers/generation_strategies#default-text-generation-configuration )\n",
      "  warnings.warn(\n"
     ]
    },
    {
     "name": "stdout",
     "output_type": "stream",
     "text": [
      "[<LLMPromptGenerator.DetailedInfo object at 0x7fbb3c6f1780>]\n",
      "Prompts:\n",
      "mellow ambient music setting piano instrumentals in a major key. serene tone soft intensity and low volume\n",
      "Generating Music from prompts\n",
      "Saved song to uploads/user_recording_backing.mp3\n"
     ]
    }
   ],
   "source": [
    "processed_file_name = 'user_recording_backing.mp3'\n",
    "processed_filepath = os.path.join(UPLOAD_FOLDER, processed_file_name)  # Build the full path for the processed file\n",
    "# processed_audio_file.save(processed_filepath)\n",
    "\n",
    "music, music_sr = ap.audio_to_music(sound, sampling_rate=sr, save_file_loc=processed_filepath)"
   ]
  },
  {
   "cell_type": "code",
   "execution_count": null,
   "metadata": {},
   "outputs": [],
   "source": [
    "from audiocraft.utils.notebook import display_audio\n",
    "\n",
    "display_audio(music, music_sr)"
   ]
  }
 ],
 "metadata": {
  "kernelspec": {
   "display_name": "PAGES",
   "language": "python",
   "name": "pages"
  },
  "language_info": {
   "codemirror_mode": {
    "name": "ipython",
    "version": 3
   },
   "file_extension": ".py",
   "mimetype": "text/x-python",
   "name": "python",
   "nbconvert_exporter": "python",
   "pygments_lexer": "ipython3",
   "version": "3.9.7"
  }
 },
 "nbformat": 4,
 "nbformat_minor": 4
}
